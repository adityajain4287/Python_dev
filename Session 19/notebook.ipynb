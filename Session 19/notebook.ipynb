{
 "metadata": {
  "language_info": {
   "codemirror_mode": {
    "name": "ipython",
    "version": 3
   },
   "file_extension": ".py",
   "mimetype": "text/x-python",
   "name": "python",
   "nbconvert_exporter": "python",
   "pygments_lexer": "ipython3",
   "version": "3.6.8-final"
  },
  "orig_nbformat": 2,
  "kernelspec": {
   "name": "python368jvsc74a57bd0952603312201d9d1df6f1b6eb4a2044a9cb2cee3bbe4f29af3f4f86c434f8702",
   "display_name": "Python 3.6.8 64-bit"
  },
  "metadata": {
   "interpreter": {
    "hash": "952603312201d9d1df6f1b6eb4a2044a9cb2cee3bbe4f29af3f4f86c434f8702"
   }
  }
 },
 "nbformat": 4,
 "nbformat_minor": 2,
 "cells": [
  {
   "source": [
    "### Decorator"
   ],
   "cell_type": "markdown",
   "metadata": {}
  },
  {
   "cell_type": "code",
   "execution_count": 2,
   "metadata": {},
   "outputs": [],
   "source": [
    "def outer_function():\n",
    "    print(\"Called Outer Function\")\n",
    "    def inner_function():\n",
    "        print(\"Called Inner Function\")\n",
    "\n",
    "    return inner_function"
   ]
  },
  {
   "source": [
    "e_val = outer_function()()"
   ],
   "cell_type": "code",
   "metadata": {},
   "execution_count": 7,
   "outputs": [
    {
     "output_type": "stream",
     "name": "stdout",
     "text": [
      "Called Outer Function\nCalled Inner Function\n"
     ]
    }
   ]
  },
  {
   "cell_type": "code",
   "execution_count": 9,
   "metadata": {},
   "outputs": [
    {
     "output_type": "stream",
     "name": "stdout",
     "text": [
      "None\n"
     ]
    }
   ],
   "source": [
    "print(e_val)"
   ]
  },
  {
   "cell_type": "code",
   "execution_count": 10,
   "metadata": {},
   "outputs": [],
   "source": [
    "def register_number(n):\n",
    "    def power(x):\n",
    "        return n ** x\n",
    "    return power"
   ]
  },
  {
   "cell_type": "code",
   "execution_count": 11,
   "metadata": {},
   "outputs": [],
   "source": [
    "f = register_number(7)"
   ]
  },
  {
   "cell_type": "code",
   "execution_count": 20,
   "metadata": {},
   "outputs": [
    {
     "output_type": "execute_result",
     "data": {
      "text/plain": [
       "49"
      ]
     },
     "metadata": {},
     "execution_count": 20
    }
   ],
   "source": [
    "f(2)"
   ]
  },
  {
   "cell_type": "code",
   "execution_count": 15,
   "metadata": {},
   "outputs": [],
   "source": [
    "f1 = register_number(17)"
   ]
  },
  {
   "cell_type": "code",
   "execution_count": 18,
   "metadata": {},
   "outputs": [
    {
     "output_type": "execute_result",
     "data": {
      "text/plain": [
       "16517976926780506002833800829531584028976727363201"
      ]
     },
     "metadata": {},
     "execution_count": 18
    }
   ],
   "source": [
    "f1(40)"
   ]
  },
  {
   "cell_type": "code",
   "execution_count": 1,
   "metadata": {},
   "outputs": [],
   "source": [
    "usernames = [\"abc\", \"def\"]\n",
    "passwords = [\"1234\", \"5678\"]\n",
    "token = [\"xqqasdyauquwZSADJnis269093\", \"dsklakdlaSDwwSFAXHJJjajjj223oi21\"]"
   ]
  },
  {
   "cell_type": "code",
   "execution_count": 17,
   "metadata": {},
   "outputs": [],
   "source": [
    "def _authorize(username, password):\n",
    "    for i, user in enumerate(usernames):\n",
    "        if user == username:\n",
    "            if passwords[i] == password:\n",
    "                return True, token[i]\n",
    "            else:\n",
    "                return False, None\n",
    "    \n",
    "    return False, None"
   ]
  },
  {
   "cell_type": "code",
   "execution_count": 18,
   "metadata": {},
   "outputs": [],
   "source": [
    "def _post(data, headers):\n",
    "    for i, t in enumerate(token):\n",
    "        if headers[\"Authorization\"].split(\"Bearer \")[-1] == token[i]:\n",
    "            print(\"user is\", usernames[i])\n",
    "            print(\"data is\", data)\n",
    "            return True\n",
    "    \n",
    "    raise RuntimeError(\"Invalid Token\")"
   ]
  },
  {
   "cell_type": "code",
   "execution_count": 19,
   "metadata": {},
   "outputs": [],
   "source": [
    "def do_authorization(username, password):\n",
    "    is_auth, token = _authorize(username, password)\n",
    "    if is_auth:\n",
    "        def post_request(data):\n",
    "            _post(data, headers={\"Authorization\": f\"Bearer {token}\"})\n",
    "        return post_request\n",
    "    else:\n",
    "        raise RuntimeError(\"Authorization Failed\")"
   ]
  },
  {
   "cell_type": "code",
   "execution_count": 24,
   "metadata": {},
   "outputs": [],
   "source": [
    "def do_authorization(callable, username, password):\n",
    "\n",
    "    def _callable_1(*args, **kwargs):\n",
    "        is_auth, token = _authorize(username, password)\n",
    "        if is_auth:\n",
    "            return callable(*args, **kwargs)\n",
    "        else:\n",
    "            raise RuntimeError(\"Authorization Failed\")\n",
    "\n",
    "    return _callable_1\n",
    "\n",
    "def authorize(username, password):\n",
    "    def _callable_2(callable): #my_func\n",
    "        return do_authorization(callable, username=username, password=password)\n",
    "\n",
    "    return _callable_2"
   ]
  },
  {
   "cell_type": "code",
   "execution_count": 25,
   "metadata": {},
   "outputs": [],
   "source": [
    "@authorize(username=\"abc\",password=\"1234\") # @_callable_2\n",
    "def my_func():\n",
    "    pass"
   ]
  },
  {
   "cell_type": "code",
   "execution_count": 35,
   "metadata": {},
   "outputs": [],
   "source": [
    "post = do_authorization(\"abc\", \"1234\")"
   ]
  },
  {
   "cell_type": "code",
   "execution_count": 36,
   "metadata": {},
   "outputs": [
    {
     "output_type": "stream",
     "name": "stdout",
     "text": [
      "user is abc\ndata is My first post\n"
     ]
    }
   ],
   "source": [
    "post(\"My first post\")"
   ]
  },
  {
   "cell_type": "code",
   "execution_count": 37,
   "metadata": {},
   "outputs": [],
   "source": [
    "post1 = do_authorization(\"def\", \"5678\")"
   ]
  },
  {
   "cell_type": "code",
   "execution_count": 38,
   "metadata": {},
   "outputs": [
    {
     "output_type": "stream",
     "name": "stdout",
     "text": [
      "user is def\ndata is My second post\n"
     ]
    }
   ],
   "source": [
    "post1(\"My second post\")"
   ]
  },
  {
   "cell_type": "code",
   "execution_count": null,
   "metadata": {},
   "outputs": [],
   "source": []
  },
  {
   "cell_type": "code",
   "execution_count": 14,
   "metadata": {},
   "outputs": [],
   "source": [
    "def func(callable):\n",
    "    def __callable(important_parameters, *args, **kwargs):    \n",
    "        # necessary task\n",
    "        print(\"Necessary Task Executed\")\n",
    "        return callable(*args, **kwargs)\n",
    "    \n",
    "    return __callable"
   ]
  },
  {
   "cell_type": "code",
   "execution_count": 15,
   "metadata": {},
   "outputs": [],
   "source": [
    "@func\n",
    "def power(a, b):\n",
    "    return a**b\n",
    "# power = func(power)"
   ]
  },
  {
   "cell_type": "code",
   "execution_count": 16,
   "metadata": {},
   "outputs": [
    {
     "output_type": "stream",
     "name": "stdout",
     "text": [
      "Necessary Task Executed\n"
     ]
    },
    {
     "output_type": "execute_result",
     "data": {
      "text/plain": [
       "8"
      ]
     },
     "metadata": {},
     "execution_count": 16
    }
   ],
   "source": [
    "power(\"important parameter\", 2, 3)"
   ]
  },
  {
   "cell_type": "code",
   "execution_count": 53,
   "metadata": {},
   "outputs": [],
   "source": [
    "@func\n",
    "def new_func():\n",
    "    print(\"Am new func\")"
   ]
  },
  {
   "cell_type": "code",
   "execution_count": 54,
   "metadata": {},
   "outputs": [
    {
     "output_type": "stream",
     "name": "stdout",
     "text": [
      "Necessary Task Executed\nAm new func\n"
     ]
    }
   ],
   "source": [
    "new_func(\"important parameter\")"
   ]
  }
 ]
}